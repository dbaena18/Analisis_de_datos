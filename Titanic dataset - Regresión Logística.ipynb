{
 "cells": [
  {
   "cell_type": "markdown",
   "id": "8ae0a14d-471c-4dfa-bafb-144651030203",
   "metadata": {},
   "source": [
    "## Regresión Logística - Set de datos sobre los pasajeros del Titanic\n",
    "## Universidad Nacional Abierta y a Distancia - UNAD\n",
    "## Curso: Análisis de datos"
   ]
  },
  {
   "cell_type": "markdown",
   "id": "248ddbee-5b65-4410-b5c2-017487fff3fc",
   "metadata": {},
   "source": [
    "El hundimiento del Titanic es uno de los naufragios más infames de la historia.\n",
    "\n",
    "El 15 de abril de 1912, durante su viaje inaugural, el RMS Titanic, considerado \"insumergible\", se hundió tras chocar con un iceberg. Desafortunadamente, no había suficientes botes salvavidas para todos a bordo, lo que resultó en la muerte de 1502 de los 2224 pasajeros y tripulantes.\n",
    "\n",
    "Si bien había algún elemento de suerte involucrado en la supervivencia, parece que algunos grupos de personas tenían más probabilidades de sobrevivir que otros.\n",
    "\n",
    "De acuerdo con este desafío, se construye un modelo predictivo que responde a la pregunta: \"¿Qué tipo de personas tenían más probabilidades de sobrevivir?\" utilizando datos de pasajeros (es decir, nombre, edad, sexo, clase socioeconómica, etc.).\n",
    "\n",
    "Información de las columas:\n",
    "- PassengerId: Identificador único del pasajero.\n",
    "- Survived: Si el pasajero sobrevivió al naufragio, codificada como 0 (no) y 1 (si). Esta es la variable respuesta que interesa predecir.\n",
    "- Pclass: Clase a la que pertenecía el pasajero: 1, 2 o 3.\n",
    "- Name: Nombre del pasajero.\n",
    "- Sex: Sexo del pasajero.\n",
    "- Age: Edad del pasajero.\n",
    "- SibSp: Número de hermanos, hermanas, hermanastros o hermanastras en el barco.\n",
    "- Parch: Número de padres e hijos en el barco.\n",
    "- Ticket: Identificador del billete.\n",
    "- Fare: Precio pagado por el billete.\n",
    "- Cabin: Identificador del camarote asignado al pasajero.\n",
    "- Embarked: Puerto en el que embarcó el pasajero."
   ]
  },
  {
   "cell_type": "code",
   "execution_count": 47,
   "id": "6cd39c75-2296-4604-a2f6-e0009cc7213a",
   "metadata": {},
   "outputs": [],
   "source": [
    "#Importar las librerias necesarias para el desarrollo de la actividad\n",
    "\n",
    "import pandas as pd # Manejo y análisis de estructuras de datos\n",
    "import numpy as np # Cálculo numérico y el análisis de datos\n",
    "import seaborn as sns # Creación gráficos estadísticos\n",
    "import matplotlib.pyplot as plt # Creación de gráficos en dos dimensiones\n",
    "import plotly.graph_objs as go # Creación de gráficos en tres dimensiones\n",
    "import plotly.express as px # Creación de gráficos en tres dimensiones\n",
    "import plotly as py\n",
    "import warnings\n",
    "warnings.filterwarnings('ignore')\n",
    "\n",
    "# librerías de para implementar modelos de ciencia de datos\n",
    "from sklearn import metrics\n",
    "from sklearn.model_selection import train_test_split\n",
    "from sklearn.linear_model import LogisticRegression\n",
    "from sklearn.metrics import classification_report, confusion_matrix, RocCurveDisplay\n",
    "from sklearn.metrics import precision_recall_curve, PrecisionRecallDisplay"
   ]
  },
  {
   "cell_type": "markdown",
   "id": "0f4425e7-49d1-4933-85e2-d18594a50f88",
   "metadata": {},
   "source": [
    "### 1. Realizar un análisis exploratorio de los datos para identificar relaciones entre variables, valores atípicos, tendencias, etc. "
   ]
  },
  {
   "cell_type": "code",
   "execution_count": 2,
   "id": "b88ef7b5-13cf-467f-8c81-6879be1258d8",
   "metadata": {},
   "outputs": [],
   "source": [
    "# lectura de datos con Python\n",
    "data = pd.read_csv('C:/Users/USUARIO/Documents/Analisis de Datos/Titanic-Dataset.csv')"
   ]
  },
  {
   "cell_type": "code",
   "execution_count": 3,
   "id": "e838ee76-ffd7-496e-b3b1-379b2a32ce2f",
   "metadata": {
    "scrolled": true
   },
   "outputs": [
    {
     "data": {
      "text/html": [
       "<div>\n",
       "<style scoped>\n",
       "    .dataframe tbody tr th:only-of-type {\n",
       "        vertical-align: middle;\n",
       "    }\n",
       "\n",
       "    .dataframe tbody tr th {\n",
       "        vertical-align: top;\n",
       "    }\n",
       "\n",
       "    .dataframe thead th {\n",
       "        text-align: right;\n",
       "    }\n",
       "</style>\n",
       "<table border=\"1\" class=\"dataframe\">\n",
       "  <thead>\n",
       "    <tr style=\"text-align: right;\">\n",
       "      <th></th>\n",
       "      <th>IdPasajero</th>\n",
       "      <th>Sobrevivio</th>\n",
       "      <th>Clase P</th>\n",
       "      <th>Nombre</th>\n",
       "      <th>Sexo</th>\n",
       "      <th>Edad</th>\n",
       "      <th>SibSp</th>\n",
       "      <th>Parch</th>\n",
       "      <th>Ticket</th>\n",
       "      <th>Tarifa</th>\n",
       "      <th>Cabina</th>\n",
       "      <th>Embarcado</th>\n",
       "    </tr>\n",
       "  </thead>\n",
       "  <tbody>\n",
       "    <tr>\n",
       "      <th>0</th>\n",
       "      <td>1</td>\n",
       "      <td>0</td>\n",
       "      <td>3</td>\n",
       "      <td>Braund, Mr. Owen Harris</td>\n",
       "      <td>male</td>\n",
       "      <td>22.0</td>\n",
       "      <td>1</td>\n",
       "      <td>0</td>\n",
       "      <td>A/5 21171</td>\n",
       "      <td>7.2500</td>\n",
       "      <td>NaN</td>\n",
       "      <td>S</td>\n",
       "    </tr>\n",
       "    <tr>\n",
       "      <th>1</th>\n",
       "      <td>2</td>\n",
       "      <td>1</td>\n",
       "      <td>1</td>\n",
       "      <td>Cumings, Mrs. John Bradley (Florence Briggs Th...</td>\n",
       "      <td>female</td>\n",
       "      <td>38.0</td>\n",
       "      <td>1</td>\n",
       "      <td>0</td>\n",
       "      <td>PC 17599</td>\n",
       "      <td>71.2833</td>\n",
       "      <td>C85</td>\n",
       "      <td>C</td>\n",
       "    </tr>\n",
       "    <tr>\n",
       "      <th>2</th>\n",
       "      <td>3</td>\n",
       "      <td>1</td>\n",
       "      <td>3</td>\n",
       "      <td>Heikkinen, Miss. Laina</td>\n",
       "      <td>female</td>\n",
       "      <td>26.0</td>\n",
       "      <td>0</td>\n",
       "      <td>0</td>\n",
       "      <td>STON/O2. 3101282</td>\n",
       "      <td>7.9250</td>\n",
       "      <td>NaN</td>\n",
       "      <td>S</td>\n",
       "    </tr>\n",
       "    <tr>\n",
       "      <th>3</th>\n",
       "      <td>4</td>\n",
       "      <td>1</td>\n",
       "      <td>1</td>\n",
       "      <td>Futrelle, Mrs. Jacques Heath (Lily May Peel)</td>\n",
       "      <td>female</td>\n",
       "      <td>35.0</td>\n",
       "      <td>1</td>\n",
       "      <td>0</td>\n",
       "      <td>113803</td>\n",
       "      <td>53.1000</td>\n",
       "      <td>C123</td>\n",
       "      <td>S</td>\n",
       "    </tr>\n",
       "    <tr>\n",
       "      <th>4</th>\n",
       "      <td>5</td>\n",
       "      <td>0</td>\n",
       "      <td>3</td>\n",
       "      <td>Allen, Mr. William Henry</td>\n",
       "      <td>male</td>\n",
       "      <td>35.0</td>\n",
       "      <td>0</td>\n",
       "      <td>0</td>\n",
       "      <td>373450</td>\n",
       "      <td>8.0500</td>\n",
       "      <td>NaN</td>\n",
       "      <td>S</td>\n",
       "    </tr>\n",
       "    <tr>\n",
       "      <th>5</th>\n",
       "      <td>6</td>\n",
       "      <td>0</td>\n",
       "      <td>3</td>\n",
       "      <td>Moran, Mr. James</td>\n",
       "      <td>male</td>\n",
       "      <td>NaN</td>\n",
       "      <td>0</td>\n",
       "      <td>0</td>\n",
       "      <td>330877</td>\n",
       "      <td>8.4583</td>\n",
       "      <td>NaN</td>\n",
       "      <td>Q</td>\n",
       "    </tr>\n",
       "    <tr>\n",
       "      <th>6</th>\n",
       "      <td>7</td>\n",
       "      <td>0</td>\n",
       "      <td>1</td>\n",
       "      <td>McCarthy, Mr. Timothy J</td>\n",
       "      <td>male</td>\n",
       "      <td>54.0</td>\n",
       "      <td>0</td>\n",
       "      <td>0</td>\n",
       "      <td>17463</td>\n",
       "      <td>51.8625</td>\n",
       "      <td>E46</td>\n",
       "      <td>S</td>\n",
       "    </tr>\n",
       "    <tr>\n",
       "      <th>7</th>\n",
       "      <td>8</td>\n",
       "      <td>0</td>\n",
       "      <td>3</td>\n",
       "      <td>Palsson, Master. Gosta Leonard</td>\n",
       "      <td>male</td>\n",
       "      <td>2.0</td>\n",
       "      <td>3</td>\n",
       "      <td>1</td>\n",
       "      <td>349909</td>\n",
       "      <td>21.0750</td>\n",
       "      <td>NaN</td>\n",
       "      <td>S</td>\n",
       "    </tr>\n",
       "    <tr>\n",
       "      <th>8</th>\n",
       "      <td>9</td>\n",
       "      <td>1</td>\n",
       "      <td>3</td>\n",
       "      <td>Johnson, Mrs. Oscar W (Elisabeth Vilhelmina Berg)</td>\n",
       "      <td>female</td>\n",
       "      <td>27.0</td>\n",
       "      <td>0</td>\n",
       "      <td>2</td>\n",
       "      <td>347742</td>\n",
       "      <td>11.1333</td>\n",
       "      <td>NaN</td>\n",
       "      <td>S</td>\n",
       "    </tr>\n",
       "    <tr>\n",
       "      <th>9</th>\n",
       "      <td>10</td>\n",
       "      <td>1</td>\n",
       "      <td>2</td>\n",
       "      <td>Nasser, Mrs. Nicholas (Adele Achem)</td>\n",
       "      <td>female</td>\n",
       "      <td>14.0</td>\n",
       "      <td>1</td>\n",
       "      <td>0</td>\n",
       "      <td>237736</td>\n",
       "      <td>30.0708</td>\n",
       "      <td>NaN</td>\n",
       "      <td>C</td>\n",
       "    </tr>\n",
       "  </tbody>\n",
       "</table>\n",
       "</div>"
      ],
      "text/plain": [
       "   IdPasajero  Sobrevivio  Clase P  \\\n",
       "0           1           0        3   \n",
       "1           2           1        1   \n",
       "2           3           1        3   \n",
       "3           4           1        1   \n",
       "4           5           0        3   \n",
       "5           6           0        3   \n",
       "6           7           0        1   \n",
       "7           8           0        3   \n",
       "8           9           1        3   \n",
       "9          10           1        2   \n",
       "\n",
       "                                              Nombre    Sexo  Edad  SibSp  \\\n",
       "0                            Braund, Mr. Owen Harris    male  22.0      1   \n",
       "1  Cumings, Mrs. John Bradley (Florence Briggs Th...  female  38.0      1   \n",
       "2                             Heikkinen, Miss. Laina  female  26.0      0   \n",
       "3       Futrelle, Mrs. Jacques Heath (Lily May Peel)  female  35.0      1   \n",
       "4                           Allen, Mr. William Henry    male  35.0      0   \n",
       "5                                   Moran, Mr. James    male   NaN      0   \n",
       "6                            McCarthy, Mr. Timothy J    male  54.0      0   \n",
       "7                     Palsson, Master. Gosta Leonard    male   2.0      3   \n",
       "8  Johnson, Mrs. Oscar W (Elisabeth Vilhelmina Berg)  female  27.0      0   \n",
       "9                Nasser, Mrs. Nicholas (Adele Achem)  female  14.0      1   \n",
       "\n",
       "   Parch            Ticket   Tarifa Cabina Embarcado  \n",
       "0      0         A/5 21171   7.2500    NaN         S  \n",
       "1      0          PC 17599  71.2833    C85         C  \n",
       "2      0  STON/O2. 3101282   7.9250    NaN         S  \n",
       "3      0            113803  53.1000   C123         S  \n",
       "4      0            373450   8.0500    NaN         S  \n",
       "5      0            330877   8.4583    NaN         Q  \n",
       "6      0             17463  51.8625    E46         S  \n",
       "7      1            349909  21.0750    NaN         S  \n",
       "8      2            347742  11.1333    NaN         S  \n",
       "9      0            237736  30.0708    NaN         C  "
      ]
     },
     "execution_count": 3,
     "metadata": {},
     "output_type": "execute_result"
    }
   ],
   "source": [
    "#Lectura de los datos para el análisis exploratorio\n",
    "data.head(10)"
   ]
  },
  {
   "cell_type": "code",
   "execution_count": 4,
   "id": "359ceae8-0a58-4450-90da-167c8ebc3132",
   "metadata": {},
   "outputs": [
    {
     "name": "stdout",
     "output_type": "stream",
     "text": [
      "<class 'pandas.core.frame.DataFrame'>\n",
      "RangeIndex: 891 entries, 0 to 890\n",
      "Data columns (total 12 columns):\n",
      " #   Column      Non-Null Count  Dtype  \n",
      "---  ------      --------------  -----  \n",
      " 0   IdPasajero  891 non-null    int64  \n",
      " 1   Sobrevivio  891 non-null    int64  \n",
      " 2   Clase P     891 non-null    int64  \n",
      " 3   Nombre      891 non-null    object \n",
      " 4   Sexo        891 non-null    object \n",
      " 5   Edad        714 non-null    float64\n",
      " 6   SibSp       891 non-null    int64  \n",
      " 7   Parch       891 non-null    int64  \n",
      " 8   Ticket      891 non-null    object \n",
      " 9   Tarifa      891 non-null    float64\n",
      " 10  Cabina      204 non-null    object \n",
      " 11  Embarcado   889 non-null    object \n",
      "dtypes: float64(2), int64(5), object(5)\n",
      "memory usage: 83.7+ KB\n"
     ]
    }
   ],
   "source": [
    "data.info()"
   ]
  },
  {
   "cell_type": "code",
   "execution_count": 5,
   "id": "ba190c2b-c6bb-4bb6-88e3-c0cc874d9a0d",
   "metadata": {},
   "outputs": [],
   "source": [
    "# Eliminación de columna IDCliente\n",
    "data=data.drop(['Nombre','Ticket','Cabina'], axis=1)"
   ]
  },
  {
   "cell_type": "code",
   "execution_count": 6,
   "id": "fff2b638-8fd0-494c-a0f0-e6fab051bee4",
   "metadata": {},
   "outputs": [
    {
     "data": {
      "text/html": [
       "<div>\n",
       "<style scoped>\n",
       "    .dataframe tbody tr th:only-of-type {\n",
       "        vertical-align: middle;\n",
       "    }\n",
       "\n",
       "    .dataframe tbody tr th {\n",
       "        vertical-align: top;\n",
       "    }\n",
       "\n",
       "    .dataframe thead th {\n",
       "        text-align: right;\n",
       "    }\n",
       "</style>\n",
       "<table border=\"1\" class=\"dataframe\">\n",
       "  <thead>\n",
       "    <tr style=\"text-align: right;\">\n",
       "      <th></th>\n",
       "      <th>IdPasajero</th>\n",
       "      <th>Sobrevivio</th>\n",
       "      <th>Clase P</th>\n",
       "      <th>Edad</th>\n",
       "      <th>SibSp</th>\n",
       "      <th>Parch</th>\n",
       "      <th>Tarifa</th>\n",
       "    </tr>\n",
       "  </thead>\n",
       "  <tbody>\n",
       "    <tr>\n",
       "      <th>count</th>\n",
       "      <td>891.000000</td>\n",
       "      <td>891.000000</td>\n",
       "      <td>891.000000</td>\n",
       "      <td>714.000000</td>\n",
       "      <td>891.000000</td>\n",
       "      <td>891.000000</td>\n",
       "      <td>891.000000</td>\n",
       "    </tr>\n",
       "    <tr>\n",
       "      <th>mean</th>\n",
       "      <td>446.000000</td>\n",
       "      <td>0.383838</td>\n",
       "      <td>2.308642</td>\n",
       "      <td>29.699118</td>\n",
       "      <td>0.523008</td>\n",
       "      <td>0.381594</td>\n",
       "      <td>32.204208</td>\n",
       "    </tr>\n",
       "    <tr>\n",
       "      <th>std</th>\n",
       "      <td>257.353842</td>\n",
       "      <td>0.486592</td>\n",
       "      <td>0.836071</td>\n",
       "      <td>14.526497</td>\n",
       "      <td>1.102743</td>\n",
       "      <td>0.806057</td>\n",
       "      <td>49.693429</td>\n",
       "    </tr>\n",
       "    <tr>\n",
       "      <th>min</th>\n",
       "      <td>1.000000</td>\n",
       "      <td>0.000000</td>\n",
       "      <td>1.000000</td>\n",
       "      <td>0.420000</td>\n",
       "      <td>0.000000</td>\n",
       "      <td>0.000000</td>\n",
       "      <td>0.000000</td>\n",
       "    </tr>\n",
       "    <tr>\n",
       "      <th>25%</th>\n",
       "      <td>223.500000</td>\n",
       "      <td>0.000000</td>\n",
       "      <td>2.000000</td>\n",
       "      <td>20.125000</td>\n",
       "      <td>0.000000</td>\n",
       "      <td>0.000000</td>\n",
       "      <td>7.910400</td>\n",
       "    </tr>\n",
       "    <tr>\n",
       "      <th>50%</th>\n",
       "      <td>446.000000</td>\n",
       "      <td>0.000000</td>\n",
       "      <td>3.000000</td>\n",
       "      <td>28.000000</td>\n",
       "      <td>0.000000</td>\n",
       "      <td>0.000000</td>\n",
       "      <td>14.454200</td>\n",
       "    </tr>\n",
       "    <tr>\n",
       "      <th>75%</th>\n",
       "      <td>668.500000</td>\n",
       "      <td>1.000000</td>\n",
       "      <td>3.000000</td>\n",
       "      <td>38.000000</td>\n",
       "      <td>1.000000</td>\n",
       "      <td>0.000000</td>\n",
       "      <td>31.000000</td>\n",
       "    </tr>\n",
       "    <tr>\n",
       "      <th>max</th>\n",
       "      <td>891.000000</td>\n",
       "      <td>1.000000</td>\n",
       "      <td>3.000000</td>\n",
       "      <td>80.000000</td>\n",
       "      <td>8.000000</td>\n",
       "      <td>6.000000</td>\n",
       "      <td>512.329200</td>\n",
       "    </tr>\n",
       "  </tbody>\n",
       "</table>\n",
       "</div>"
      ],
      "text/plain": [
       "       IdPasajero  Sobrevivio     Clase P        Edad       SibSp       Parch  \\\n",
       "count  891.000000  891.000000  891.000000  714.000000  891.000000  891.000000   \n",
       "mean   446.000000    0.383838    2.308642   29.699118    0.523008    0.381594   \n",
       "std    257.353842    0.486592    0.836071   14.526497    1.102743    0.806057   \n",
       "min      1.000000    0.000000    1.000000    0.420000    0.000000    0.000000   \n",
       "25%    223.500000    0.000000    2.000000   20.125000    0.000000    0.000000   \n",
       "50%    446.000000    0.000000    3.000000   28.000000    0.000000    0.000000   \n",
       "75%    668.500000    1.000000    3.000000   38.000000    1.000000    0.000000   \n",
       "max    891.000000    1.000000    3.000000   80.000000    8.000000    6.000000   \n",
       "\n",
       "           Tarifa  \n",
       "count  891.000000  \n",
       "mean    32.204208  \n",
       "std     49.693429  \n",
       "min      0.000000  \n",
       "25%      7.910400  \n",
       "50%     14.454200  \n",
       "75%     31.000000  \n",
       "max    512.329200  "
      ]
     },
     "execution_count": 6,
     "metadata": {},
     "output_type": "execute_result"
    }
   ],
   "source": [
    "# Descripción de los datos\n",
    "data.describe()"
   ]
  },
  {
   "cell_type": "code",
   "execution_count": 7,
   "id": "2282d5cc-58e4-4704-a8d2-7059f6952d68",
   "metadata": {},
   "outputs": [
    {
     "name": "stdout",
     "output_type": "stream",
     "text": [
      "Número de filas: 891\n",
      "Número de columnas: 9\n"
     ]
    }
   ],
   "source": [
    "# Cantidad de registros (filas y columnas)\n",
    "num_filas, num_columnas = data.shape\n",
    "\n",
    "# Imprimir el número de filas y columnas\n",
    "print(\"Número de filas:\", num_filas)\n",
    "print(\"Número de columnas:\", num_columnas)"
   ]
  },
  {
   "cell_type": "code",
   "execution_count": 8,
   "id": "790addf8-d38d-4954-895b-3b316816eca3",
   "metadata": {},
   "outputs": [
    {
     "data": {
      "image/png": "[encoded data removed]",
      "text/plain": [
       "<Figure size 1000x1000 with 9 Axes>"
      ]
     },
     "metadata": {},
     "output_type": "display_data"
    }
   ],
   "source": [
    "#Visualización de los datos \n",
    "data.hist(figsize=(10, 10))\n",
    "plt.show()"
   ]
  },
  {
   "cell_type": "code",
   "execution_count": 9,
   "id": "bfb6665c-2bfc-495c-87dc-061339bf6a61",
   "metadata": {},
   "outputs": [
    {
     "data": {
      "text/plain": [
       "<Axes: >"
      ]
     },
     "execution_count": 9,
     "metadata": {},
     "output_type": "execute_result"
    },
    {
     "data": {
      "image/png": "[encoded data removed]",
      "text/plain": [
       "<Figure size 640x480 with 1 Axes>"
      ]
     },
     "metadata": {},
     "output_type": "display_data"
    }
   ],
   "source": [
    "#Identificación de valores faltantes y atípicos mediante una grafica \n",
    "\n",
    "# Diagramas de caja para cada variable\n",
    "sns.boxplot(data=data)"
   ]
  },
  {
   "cell_type": "markdown",
   "id": "aad581bc-5639-489a-a6f1-d8896747b4dd",
   "metadata": {},
   "source": [
    "### 2. Preprocesar los datos limpiándolos, tratando valores faltantes y transformándolos según sea necesario. "
   ]
  },
  {
   "cell_type": "code",
   "execution_count": 10,
   "id": "77077099-b8fd-48d1-be7a-575bd79a1e55",
   "metadata": {},
   "outputs": [],
   "source": [
    "# Los valores de 'Sexo' son 'Male' y 'Female'.\n",
    "# Se asigna 1 a 'Male' y 2 a 'Female' usando el método 'map' o 'replace'.\n",
    "\n",
    "# Creación de un diccionario de mapeo para la codificación\n",
    "genero_mapeo = {'male': 1, 'female': 2}\n",
    "\n",
    "# Reemplazar la columna 'Genero' con valores numéricos utilizando el diccionario de mapeo\n",
    "data['Sexo'] = data['Sexo'].map(genero_mapeo)"
   ]
  },
  {
   "cell_type": "code",
   "execution_count": 11,
   "id": "57cc2ed8-260b-4c58-8e5e-e4912d6f3a92",
   "metadata": {},
   "outputs": [],
   "source": [
    "# Los valores de 'Embarcado' son 'S', 'C' y 'Q'.\n",
    "# Se asigna 1 a 'S', 2 a 'C' y 3 a 'Q' usando el método 'map' o 'replace'.\n",
    "\n",
    "# Creación de un diccionario de mapeo para la codificación\n",
    "genero_mapeo = {'S': 1, 'C': 2, 'Q': 3}\n",
    "\n",
    "# Reemplazar la columna 'Genero' con valores numéricos utilizando el diccionario de mapeo\n",
    "data['Embarcado'] = data['Embarcado'].map(genero_mapeo)"
   ]
  },
  {
   "cell_type": "code",
   "execution_count": 12,
   "id": "7ce4f48a-2e6a-4499-bac5-b50b9357dd9e",
   "metadata": {},
   "outputs": [
    {
     "data": {
      "text/html": [
       "<div>\n",
       "<style scoped>\n",
       "    .dataframe tbody tr th:only-of-type {\n",
       "        vertical-align: middle;\n",
       "    }\n",
       "\n",
       "    .dataframe tbody tr th {\n",
       "        vertical-align: top;\n",
       "    }\n",
       "\n",
       "    .dataframe thead th {\n",
       "        text-align: right;\n",
       "    }\n",
       "</style>\n",
       "<table border=\"1\" class=\"dataframe\">\n",
       "  <thead>\n",
       "    <tr style=\"text-align: right;\">\n",
       "      <th></th>\n",
       "      <th>IdPasajero</th>\n",
       "      <th>Sobrevivio</th>\n",
       "      <th>Clase P</th>\n",
       "      <th>Sexo</th>\n",
       "      <th>Edad</th>\n",
       "      <th>SibSp</th>\n",
       "      <th>Parch</th>\n",
       "      <th>Tarifa</th>\n",
       "      <th>Embarcado</th>\n",
       "    </tr>\n",
       "  </thead>\n",
       "  <tbody>\n",
       "    <tr>\n",
       "      <th>0</th>\n",
       "      <td>1</td>\n",
       "      <td>0</td>\n",
       "      <td>3</td>\n",
       "      <td>1</td>\n",
       "      <td>22.0</td>\n",
       "      <td>1</td>\n",
       "      <td>0</td>\n",
       "      <td>7.2500</td>\n",
       "      <td>1.0</td>\n",
       "    </tr>\n",
       "    <tr>\n",
       "      <th>1</th>\n",
       "      <td>2</td>\n",
       "      <td>1</td>\n",
       "      <td>1</td>\n",
       "      <td>2</td>\n",
       "      <td>38.0</td>\n",
       "      <td>1</td>\n",
       "      <td>0</td>\n",
       "      <td>71.2833</td>\n",
       "      <td>2.0</td>\n",
       "    </tr>\n",
       "    <tr>\n",
       "      <th>2</th>\n",
       "      <td>3</td>\n",
       "      <td>1</td>\n",
       "      <td>3</td>\n",
       "      <td>2</td>\n",
       "      <td>26.0</td>\n",
       "      <td>0</td>\n",
       "      <td>0</td>\n",
       "      <td>7.9250</td>\n",
       "      <td>1.0</td>\n",
       "    </tr>\n",
       "    <tr>\n",
       "      <th>3</th>\n",
       "      <td>4</td>\n",
       "      <td>1</td>\n",
       "      <td>1</td>\n",
       "      <td>2</td>\n",
       "      <td>35.0</td>\n",
       "      <td>1</td>\n",
       "      <td>0</td>\n",
       "      <td>53.1000</td>\n",
       "      <td>1.0</td>\n",
       "    </tr>\n",
       "    <tr>\n",
       "      <th>4</th>\n",
       "      <td>5</td>\n",
       "      <td>0</td>\n",
       "      <td>3</td>\n",
       "      <td>1</td>\n",
       "      <td>35.0</td>\n",
       "      <td>0</td>\n",
       "      <td>0</td>\n",
       "      <td>8.0500</td>\n",
       "      <td>1.0</td>\n",
       "    </tr>\n",
       "    <tr>\n",
       "      <th>5</th>\n",
       "      <td>6</td>\n",
       "      <td>0</td>\n",
       "      <td>3</td>\n",
       "      <td>1</td>\n",
       "      <td>NaN</td>\n",
       "      <td>0</td>\n",
       "      <td>0</td>\n",
       "      <td>8.4583</td>\n",
       "      <td>3.0</td>\n",
       "    </tr>\n",
       "    <tr>\n",
       "      <th>6</th>\n",
       "      <td>7</td>\n",
       "      <td>0</td>\n",
       "      <td>1</td>\n",
       "      <td>1</td>\n",
       "      <td>54.0</td>\n",
       "      <td>0</td>\n",
       "      <td>0</td>\n",
       "      <td>51.8625</td>\n",
       "      <td>1.0</td>\n",
       "    </tr>\n",
       "    <tr>\n",
       "      <th>7</th>\n",
       "      <td>8</td>\n",
       "      <td>0</td>\n",
       "      <td>3</td>\n",
       "      <td>1</td>\n",
       "      <td>2.0</td>\n",
       "      <td>3</td>\n",
       "      <td>1</td>\n",
       "      <td>21.0750</td>\n",
       "      <td>1.0</td>\n",
       "    </tr>\n",
       "    <tr>\n",
       "      <th>8</th>\n",
       "      <td>9</td>\n",
       "      <td>1</td>\n",
       "      <td>3</td>\n",
       "      <td>2</td>\n",
       "      <td>27.0</td>\n",
       "      <td>0</td>\n",
       "      <td>2</td>\n",
       "      <td>11.1333</td>\n",
       "      <td>1.0</td>\n",
       "    </tr>\n",
       "    <tr>\n",
       "      <th>9</th>\n",
       "      <td>10</td>\n",
       "      <td>1</td>\n",
       "      <td>2</td>\n",
       "      <td>2</td>\n",
       "      <td>14.0</td>\n",
       "      <td>1</td>\n",
       "      <td>0</td>\n",
       "      <td>30.0708</td>\n",
       "      <td>2.0</td>\n",
       "    </tr>\n",
       "  </tbody>\n",
       "</table>\n",
       "</div>"
      ],
      "text/plain": [
       "   IdPasajero  Sobrevivio  Clase P  Sexo  Edad  SibSp  Parch   Tarifa  \\\n",
       "0           1           0        3     1  22.0      1      0   7.2500   \n",
       "1           2           1        1     2  38.0      1      0  71.2833   \n",
       "2           3           1        3     2  26.0      0      0   7.9250   \n",
       "3           4           1        1     2  35.0      1      0  53.1000   \n",
       "4           5           0        3     1  35.0      0      0   8.0500   \n",
       "5           6           0        3     1   NaN      0      0   8.4583   \n",
       "6           7           0        1     1  54.0      0      0  51.8625   \n",
       "7           8           0        3     1   2.0      3      1  21.0750   \n",
       "8           9           1        3     2  27.0      0      2  11.1333   \n",
       "9          10           1        2     2  14.0      1      0  30.0708   \n",
       "\n",
       "   Embarcado  \n",
       "0        1.0  \n",
       "1        2.0  \n",
       "2        1.0  \n",
       "3        1.0  \n",
       "4        1.0  \n",
       "5        3.0  \n",
       "6        1.0  \n",
       "7        1.0  \n",
       "8        1.0  \n",
       "9        2.0  "
      ]
     },
     "execution_count": 12,
     "metadata": {},
     "output_type": "execute_result"
    }
   ],
   "source": [
    "data.head(10)"
   ]
  },
  {
   "cell_type": "code",
   "execution_count": 13,
   "id": "d77e2a25-28b2-4acc-9740-4d1cbed06a7b",
   "metadata": {},
   "outputs": [
    {
     "data": {
      "text/plain": [
       "IdPasajero     0.000000\n",
       "Sobrevivio     0.000000\n",
       "Clase P        0.000000\n",
       "Sexo           0.000000\n",
       "Edad          19.865320\n",
       "SibSp          0.000000\n",
       "Parch          0.000000\n",
       "Tarifa         0.000000\n",
       "Embarcado      0.224467\n",
       "dtype: float64"
      ]
     },
     "execution_count": 13,
     "metadata": {},
     "output_type": "execute_result"
    }
   ],
   "source": [
    "# Comprobando valores nulos\n",
    "data.isnull().sum()*100/data.shape[0]"
   ]
  },
  {
   "cell_type": "code",
   "execution_count": 14,
   "id": "495fab28-09c3-4604-893c-63aaa7be4385",
   "metadata": {},
   "outputs": [],
   "source": [
    "# Manejo de datos faltantes \n",
    "# Reemplazar todos los valores vacios con el valor medio (promedio) de la columna cuando la variable es númerica\n",
    "# Cuando la variable es categorica se imputa los valores con la moda de dicha variable.\n",
    "\n",
    "for variables in data.columns:\n",
    "    if data[variables].dtype == 'object':  # Comprobando si la columna es categórica\n",
    "        data[variables].fillna(data[variables].mode()[0], inplace=True)  # Imputar con la moda\n",
    "    else:\n",
    "        data[variables].fillna(data[variables].mean(), inplace=True)  # Imputar con la media"
   ]
  },
  {
   "cell_type": "code",
   "execution_count": 15,
   "id": "2fc911b7-0886-4406-bd4b-35f7e19d10dc",
   "metadata": {},
   "outputs": [
    {
     "name": "stdout",
     "output_type": "stream",
     "text": [
      "Cantidad de registros vacíos en Idpasajero: 0\n",
      "Cantidad de registros vacíos en Sobrevivio: 0\n",
      "Cantidad de registros vacíos en Clase p: 0\n",
      "Cantidad de registros vacíos en Sexo: 0\n",
      "Cantidad de registros vacíos en Edad: 0\n",
      "Cantidad de registros vacíos en Sibsp: 0\n",
      "Cantidad de registros vacíos en Parch: 0\n",
      "Cantidad de registros vacíos en Tarifa: 0\n",
      "Cantidad de registros vacíos en Embarcado: 0\n"
     ]
    }
   ],
   "source": [
    "#Revisión de datos faltantes\n",
    "for variable in data.columns:\n",
    "    print(\"Cantidad de registros vacíos en {}: {}\".format(variable.capitalize(), data[variable].isna().sum()))"
   ]
  },
  {
   "cell_type": "code",
   "execution_count": 16,
   "id": "7d3f7b6d-d9e8-490d-a97c-87f947acc4b2",
   "metadata": {},
   "outputs": [
    {
     "name": "stdout",
     "output_type": "stream",
     "text": [
      "Datos atípicos de Edad es: 66\n",
      "Datos atípicos de SibSp es: 46\n",
      "Datos atípicos de Parch es: 213\n",
      "Datos atípicos de Tarifa es: 116\n"
     ]
    }
   ],
   "source": [
    "# Lista de columnas númericas\n",
    "columnas_interes = ['Edad', 'SibSp', 'Parch','Tarifa']\n",
    "\n",
    "for columna in columnas_interes:\n",
    "    # Calcular los cuartiles y el rango intercuartílico (IQR)\n",
    "    Q1 = data[columna].quantile(0.25)\n",
    "    Q3 = data[columna].quantile(0.75)\n",
    "    IQR = Q3 - Q1\n",
    "    \n",
    "    # Calcular los límites para identificar los valores atípicos\n",
    "    limite_inferior = Q1 - 1.5 * IQR\n",
    "    limite_superior = Q3 + 1.5 * IQR\n",
    "    \n",
    "    # Identificar los valores atípicos\n",
    "    valores_atipicos = ((data[columna] < limite_inferior) | (data[columna] > limite_superior)).sum()\n",
    "    \n",
    "    # Imprimir los valores atípicos\n",
    "    print(f\"Datos atípicos de {columna} es: {valores_atipicos}\")"
   ]
  },
  {
   "cell_type": "code",
   "execution_count": 18,
   "id": "1d549bbc-42ff-486a-8391-7aff7a21d735",
   "metadata": {},
   "outputs": [
    {
     "name": "stdout",
     "output_type": "stream",
     "text": [
      "Tamaño de los datos filtrados:\n",
      "(577, 9)\n"
     ]
    }
   ],
   "source": [
    "# Creación de un DataFrame para almacenar los datos filtrados\n",
    "data_filtrados = data.copy()\n",
    "\n",
    "for columna in columnas_interes:\n",
    "    # Calcular los cuartiles y el rango intercuartílico (IQR)\n",
    "    Q1 = data[columna].quantile(0.25)\n",
    "    Q3 = data[columna].quantile(0.75)\n",
    "    IQR = Q3 - Q1\n",
    "    \n",
    "    # Calcular los límites para identificar los valores atípicos\n",
    "    limite_inferior = Q1 - 1.5 * IQR\n",
    "    limite_superior = Q3 + 1.5 * IQR\n",
    "    \n",
    "    # Identificar los valores atípicos\n",
    "    valores_atipicos = data[(data[columna] < limite_inferior) | (data[columna] > limite_superior)][columna]\n",
    "    \n",
    "    # Filtrar los datos para eliminar los valores atípicos\n",
    "    data_filtrados = data_filtrados[(data_filtrados[columna] >= limite_inferior) & (data_filtrados[columna] <= limite_superior)]\n",
    "\n",
    "# Verificar el tamaño de los datos filtrados\n",
    "print(\"Tamaño de los datos filtrados:\")\n",
    "print(data_filtrados.shape)"
   ]
  },
  {
   "cell_type": "code",
   "execution_count": 19,
   "id": "8394a4ef-ca42-481f-b124-c5132bc6404f",
   "metadata": {},
   "outputs": [
    {
     "name": "stdout",
     "output_type": "stream",
     "text": [
      "<class 'pandas.core.frame.DataFrame'>\n",
      "Index: 577 entries, 0 to 890\n",
      "Data columns (total 9 columns):\n",
      " #   Column      Non-Null Count  Dtype  \n",
      "---  ------      --------------  -----  \n",
      " 0   IdPasajero  577 non-null    int64  \n",
      " 1   Sobrevivio  577 non-null    int64  \n",
      " 2   Clase P     577 non-null    int64  \n",
      " 3   Sexo        577 non-null    int64  \n",
      " 4   Edad        577 non-null    float64\n",
      " 5   SibSp       577 non-null    int64  \n",
      " 6   Parch       577 non-null    int64  \n",
      " 7   Tarifa      577 non-null    float64\n",
      " 8   Embarcado   577 non-null    float64\n",
      "dtypes: float64(3), int64(6)\n",
      "memory usage: 45.1 KB\n"
     ]
    }
   ],
   "source": [
    "data_filtrados.info()"
   ]
  },
  {
   "cell_type": "code",
   "execution_count": 20,
   "id": "f7324778-1c55-4488-b5a9-4c995c3f96e5",
   "metadata": {},
   "outputs": [
    {
     "data": {
      "text/plain": [
       "<Axes: >"
      ]
     },
     "execution_count": 20,
     "metadata": {},
     "output_type": "execute_result"
    },
    {
     "data": {
      "image/png": "[encoded data removed]",
      "text/plain": [
       "<Figure size 640x480 with 1 Axes>"
      ]
     },
     "metadata": {},
     "output_type": "display_data"
    }
   ],
   "source": [
    "#Identificación de valores faltantes y atípicos mediante una grafica \n",
    "\n",
    "# Diagramas de caja para cada variable\n",
    "sns.boxplot(data=data_filtrados)"
   ]
  },
  {
   "cell_type": "markdown",
   "id": "c3f4e18b-b245-4ae6-a245-e7804868ddc6",
   "metadata": {},
   "source": [
    "### 3. Seleccionar las características más relevantes para entrenar el modelo utilizando selección de características."
   ]
  },
  {
   "cell_type": "markdown",
   "id": "f5533cd0-9656-44e6-806e-5ff8d786288e",
   "metadata": {},
   "source": [
    "Característica de interes:\n",
    "- Variable dependiente (Sobrevivió): Si el pasajero sobrevivió al naufragio, codificada como 0 (no) y 1 (si). Esta es la variable respuesta que interesa predecir.\n",
    "- Predecir el precio del automóvil en función de sus atributos."
   ]
  },
  {
   "cell_type": "code",
   "execution_count": 21,
   "id": "39a60929-179e-442d-ab91-b8509835e211",
   "metadata": {},
   "outputs": [
    {
     "data": {
      "text/plain": [
       "Sobrevivio\n",
       "0    404\n",
       "1    173\n",
       "Name: count, dtype: int64"
      ]
     },
     "execution_count": 21,
     "metadata": {},
     "output_type": "execute_result"
    }
   ],
   "source": [
    "# Total de personas que sobrevivieron\n",
    "\n",
    "data_filtrados['Sobrevivio'].value_counts()"
   ]
  },
  {
   "cell_type": "code",
   "execution_count": 22,
   "id": "d2189d95-e13e-4365-a34d-ababd06e710f",
   "metadata": {},
   "outputs": [
    {
     "data": {
      "text/html": [
       "<div>\n",
       "<style scoped>\n",
       "    .dataframe tbody tr th:only-of-type {\n",
       "        vertical-align: middle;\n",
       "    }\n",
       "\n",
       "    .dataframe tbody tr th {\n",
       "        vertical-align: top;\n",
       "    }\n",
       "\n",
       "    .dataframe thead th {\n",
       "        text-align: right;\n",
       "    }\n",
       "</style>\n",
       "<table border=\"1\" class=\"dataframe\">\n",
       "  <thead>\n",
       "    <tr style=\"text-align: right;\">\n",
       "      <th></th>\n",
       "      <th>Sobrevivio</th>\n",
       "    </tr>\n",
       "  </thead>\n",
       "  <tbody>\n",
       "    <tr>\n",
       "      <th>0</th>\n",
       "      <td>0</td>\n",
       "    </tr>\n",
       "    <tr>\n",
       "      <th>2</th>\n",
       "      <td>1</td>\n",
       "    </tr>\n",
       "    <tr>\n",
       "      <th>3</th>\n",
       "      <td>1</td>\n",
       "    </tr>\n",
       "    <tr>\n",
       "      <th>4</th>\n",
       "      <td>0</td>\n",
       "    </tr>\n",
       "    <tr>\n",
       "      <th>5</th>\n",
       "      <td>0</td>\n",
       "    </tr>\n",
       "    <tr>\n",
       "      <th>6</th>\n",
       "      <td>0</td>\n",
       "    </tr>\n",
       "    <tr>\n",
       "      <th>9</th>\n",
       "      <td>1</td>\n",
       "    </tr>\n",
       "    <tr>\n",
       "      <th>12</th>\n",
       "      <td>0</td>\n",
       "    </tr>\n",
       "    <tr>\n",
       "      <th>14</th>\n",
       "      <td>0</td>\n",
       "    </tr>\n",
       "    <tr>\n",
       "      <th>17</th>\n",
       "      <td>1</td>\n",
       "    </tr>\n",
       "    <tr>\n",
       "      <th>18</th>\n",
       "      <td>0</td>\n",
       "    </tr>\n",
       "    <tr>\n",
       "      <th>19</th>\n",
       "      <td>1</td>\n",
       "    </tr>\n",
       "    <tr>\n",
       "      <th>20</th>\n",
       "      <td>0</td>\n",
       "    </tr>\n",
       "    <tr>\n",
       "      <th>21</th>\n",
       "      <td>1</td>\n",
       "    </tr>\n",
       "    <tr>\n",
       "      <th>22</th>\n",
       "      <td>1</td>\n",
       "    </tr>\n",
       "    <tr>\n",
       "      <th>23</th>\n",
       "      <td>1</td>\n",
       "    </tr>\n",
       "    <tr>\n",
       "      <th>26</th>\n",
       "      <td>0</td>\n",
       "    </tr>\n",
       "    <tr>\n",
       "      <th>28</th>\n",
       "      <td>1</td>\n",
       "    </tr>\n",
       "    <tr>\n",
       "      <th>29</th>\n",
       "      <td>0</td>\n",
       "    </tr>\n",
       "    <tr>\n",
       "      <th>30</th>\n",
       "      <td>0</td>\n",
       "    </tr>\n",
       "  </tbody>\n",
       "</table>\n",
       "</div>"
      ],
      "text/plain": [
       "    Sobrevivio\n",
       "0            0\n",
       "2            1\n",
       "3            1\n",
       "4            0\n",
       "5            0\n",
       "6            0\n",
       "9            1\n",
       "12           0\n",
       "14           0\n",
       "17           1\n",
       "18           0\n",
       "19           1\n",
       "20           0\n",
       "21           1\n",
       "22           1\n",
       "23           1\n",
       "26           0\n",
       "28           1\n",
       "29           0\n",
       "30           0"
      ]
     },
     "execution_count": 22,
     "metadata": {},
     "output_type": "execute_result"
    }
   ],
   "source": [
    "data_filtrados[['Sobrevivio']].head(20)"
   ]
  },
  {
   "cell_type": "markdown",
   "id": "2e590317-f6b9-458c-88e6-00e075d4bafe",
   "metadata": {},
   "source": [
    "### 4. Dividir el dataset en Train y Test para evaluar correctamente el modelo."
   ]
  },
  {
   "cell_type": "code",
   "execution_count": 23,
   "id": "9e2374b6-7dad-4adf-8571-153e37d98fb7",
   "metadata": {},
   "outputs": [],
   "source": [
    "# Porcentaje de datos para entrenamiento (train) = 75% , y para prueba (test) = 25%\n",
    "\n",
    "# Se crean variables X y Y para almacenar la información del entrenamiento\n",
    "\n",
    "X = data_filtrados.drop('Sobrevivio',axis=1) # Se cargan los datos de train sin los datos de la columna Diabetico \n",
    "Y = data_filtrados['Sobrevivio'] # Se cargan los datos de train con los datos de la la columna Diabetico\n",
    "\n",
    "#La función train_test_split crea una división de un conjunto de datos en dos bloques uno de entrenamiento y otro de prueba (train and test)\n",
    "X_train, X_test, Y_train, Y_test = train_test_split(X, Y, test_size=0.25, stratify=Y, random_state= 0)"
   ]
  },
  {
   "cell_type": "code",
   "execution_count": 24,
   "id": "bb5ebaf4-6c2f-470e-9de4-f67895847f56",
   "metadata": {},
   "outputs": [
    {
     "name": "stdout",
     "output_type": "stream",
     "text": [
      "     IdPasajero  Clase P  Sexo       Edad  SibSp  Parch   Tarifa  Embarcado\n",
      "884         885        3     1  25.000000      0      0   7.0500        1.0\n",
      "568         569        3     1  29.699118      0      0   7.2292        2.0\n",
      "749         750        3     1  31.000000      0      0   7.7500        3.0\n",
      "810         811        3     1  26.000000      0      0   7.8875        1.0\n",
      "667         668        3     1  29.699118      0      0   7.7750        1.0\n",
      "..          ...      ...   ...        ...    ...    ...      ...        ...\n",
      "192         193        3     2  19.000000      1      0   7.8542        1.0\n",
      "602         603        1     1  29.699118      0      0  42.4000        1.0\n",
      "14           15        3     2  14.000000      0      0   7.8542        1.0\n",
      "821         822        3     1  27.000000      0      0   8.6625        1.0\n",
      "471         472        3     1  38.000000      0      0   8.6625        1.0\n",
      "\n",
      "[432 rows x 8 columns]\n"
     ]
    }
   ],
   "source": [
    "print (X_train)"
   ]
  },
  {
   "cell_type": "code",
   "execution_count": 25,
   "id": "0c383dcb-bbe9-4896-980f-7e69b05c583c",
   "metadata": {},
   "outputs": [
    {
     "name": "stdout",
     "output_type": "stream",
     "text": [
      "884    0\n",
      "568    0\n",
      "749    0\n",
      "810    0\n",
      "667    0\n",
      "      ..\n",
      "192    1\n",
      "602    0\n",
      "14     0\n",
      "821    1\n",
      "471    0\n",
      "Name: Sobrevivio, Length: 432, dtype: int64\n"
     ]
    }
   ],
   "source": [
    "print (Y_train)"
   ]
  },
  {
   "cell_type": "markdown",
   "id": "72ef2f29-c199-4a10-8382-61b6ef4f773a",
   "metadata": {},
   "source": [
    "### 5. Entrenar el modelo configurando los diferentes hiperparámetros."
   ]
  },
  {
   "cell_type": "code",
   "execution_count": 37,
   "id": "5eb6db6c-1549-4ffa-9a27-391c80f4af9d",
   "metadata": {},
   "outputs": [],
   "source": [
    "# Construir el modelo de regresión logística \n",
    "\n",
    "modelo_regresion = LogisticRegression(solver = \"liblinear\") # liblinear es una libreria para resolver problemas lineales de clasificación y regresión\n",
    "modelo_regresion.fit (X_train , Y_train)   \n",
    "\n",
    "# Crea el modelo de prediccion\n",
    "Prediccion = modelo_regresion.predict(X_test) # la función predict predice los valores a partir del conjunto de datos de validación"
   ]
  },
  {
   "cell_type": "code",
   "execution_count": 38,
   "id": "e2ae07b2-9b13-4035-9e09-f3cd453487c2",
   "metadata": {},
   "outputs": [
    {
     "name": "stdout",
     "output_type": "stream",
     "text": [
      "696    0\n",
      "778    0\n",
      "350    0\n",
      "653    1\n",
      "886    0\n",
      "      ..\n",
      "793    0\n",
      "392    0\n",
      "276    0\n",
      "573    1\n",
      "223    0\n",
      "Name: Sobrevivio, Length: 145, dtype: int64\n"
     ]
    }
   ],
   "source": [
    "print (Y_test)"
   ]
  },
  {
   "cell_type": "code",
   "execution_count": 39,
   "id": "8f641bc2-6506-4aa5-8aba-8bd502be4c9c",
   "metadata": {},
   "outputs": [
    {
     "name": "stdout",
     "output_type": "stream",
     "text": [
      "[0 0 0 1 0 0 0 0 0 0 0 0 1 0 0 0 0 0 0 0 0 0 0 0 0 0 0 0 0 1 0 0 0 0 0 1 0\n",
      " 0 0 0 0 0 0 0 0 0 1 0 1 0 0 0 0 0 1 0 1 0 1 0 0 0 0 0 0 0 0 0 1 0 0 0 0 0\n",
      " 1 0 0 0 1 0 0 0 0 0 0 0 0 0 1 0 0 0 0 1 0 0 0 0 0 0 0 0 0 0 0 0 1 1 0 0 0\n",
      " 1 0 1 1 0 0 0 0 1 0 0 0 0 0 0 0 0 1 0 1 0 0 0 0 1 1 0 0 1 1 0 0 1 0]\n"
     ]
    }
   ],
   "source": [
    "print (Prediccion)"
   ]
  },
  {
   "cell_type": "markdown",
   "id": "714bc46d-2181-40db-82d7-83af86b85bf3",
   "metadata": {},
   "source": [
    "### 6. Evaluar el desempeño del modelo en el conjunto de Test con métricas como precisión, recall, F1-score, etc."
   ]
  },
  {
   "cell_type": "code",
   "execution_count": 40,
   "id": "a65e10d5-f5a5-4951-bf81-fb6a50ad4677",
   "metadata": {},
   "outputs": [
    {
     "name": "stdout",
     "output_type": "stream",
     "text": [
      "              precision    recall  f1-score   support\n",
      "\n",
      "           0       0.83      0.96      0.89       102\n",
      "           1       0.85      0.53      0.66        43\n",
      "\n",
      "    accuracy                           0.83       145\n",
      "   macro avg       0.84      0.75      0.77       145\n",
      "weighted avg       0.84      0.83      0.82       145\n",
      "\n"
     ]
    }
   ],
   "source": [
    "# Desempeño del modelo de regresión\n",
    "print(classification_report(Y_test,Prediccion))"
   ]
  },
  {
   "cell_type": "markdown",
   "id": "59b4ece9-2572-4441-823b-6f775a28b7eb",
   "metadata": {},
   "source": [
    "### 7. Realizar las diferentes gráficas que permitan visualizar los resultados del modelo."
   ]
  },
  {
   "cell_type": "code",
   "execution_count": 41,
   "id": "cc5c3cb9-87ec-4158-9216-3ae930c458a4",
   "metadata": {},
   "outputs": [
    {
     "data": {
      "text/plain": [
       "<sklearn.metrics._plot.confusion_matrix.ConfusionMatrixDisplay at 0x22384fcb450>"
      ]
     },
     "execution_count": 41,
     "metadata": {},
     "output_type": "execute_result"
    },
    {
     "data": {
      "image/png": "[encoded data removed]",
      "text/plain": [
       "<Figure size 640x480 with 2 Axes>"
      ]
     },
     "metadata": {},
     "output_type": "display_data"
    }
   ],
   "source": [
    "#Matrix de Confusión del modelo\n",
    "\n",
    "cm=confusion_matrix(Y_test,Prediccion)\n",
    "disp=metrics.ConfusionMatrixDisplay(confusion_matrix=cm)\n",
    "disp.plot()"
   ]
  },
  {
   "cell_type": "code",
   "execution_count": 64,
   "id": "35024b1b-b9c9-4e51-8291-f668669bf492",
   "metadata": {},
   "outputs": [
    {
     "name": "stdout",
     "output_type": "stream",
     "text": [
      "\u001b[1mMatriz de Correlación:\u001b[0m\n"
     ]
    },
    {
     "data": {
      "image/png": "[encoded data removed]",
      "text/plain": [
       "<Figure size 640x480 with 2 Axes>"
      ]
     },
     "metadata": {},
     "output_type": "display_data"
    },
    {
     "name": "stdout",
     "output_type": "stream",
     "text": [
      "            IdPasajero  Sobrevivio   Clase P      Sexo      Edad     SibSp  \\\n",
      "IdPasajero    1.000000   -0.050556 -0.054511 -0.104019  0.045852 -0.102197   \n",
      "Sobrevivio   -0.050556    1.000000 -0.242189  0.526748  0.006573  0.097999   \n",
      "Clase P      -0.054511   -0.242189  1.000000 -0.037617 -0.354983 -0.078664   \n",
      "Sexo         -0.104019    0.526748 -0.037617  1.000000 -0.079316  0.185057   \n",
      "Edad          0.045852    0.006573 -0.354983 -0.079316  1.000000  0.024616   \n",
      "SibSp        -0.102197    0.097999 -0.078664  0.185057  0.024616  1.000000   \n",
      "Parch              NaN         NaN       NaN       NaN       NaN       NaN   \n",
      "Tarifa        0.019040    0.268890 -0.670942  0.070345  0.261098  0.345588   \n",
      "Embarcado    -0.046220    0.149799  0.159747  0.205606 -0.075507  0.014744   \n",
      "\n",
      "            Parch    Tarifa  Embarcado  \n",
      "IdPasajero    NaN  0.019040  -0.046220  \n",
      "Sobrevivio    NaN  0.268890   0.149799  \n",
      "Clase P       NaN -0.670942   0.159747  \n",
      "Sexo          NaN  0.070345   0.205606  \n",
      "Edad          NaN  0.261098  -0.075507  \n",
      "SibSp         NaN  0.345588   0.014744  \n",
      "Parch         NaN       NaN        NaN  \n",
      "Tarifa        NaN  1.000000  -0.080315  \n",
      "Embarcado     NaN -0.080315   1.000000  \n"
     ]
    }
   ],
   "source": [
    "#Matrix de Correlación del modelo\n",
    "print(\"\\033[1mMatriz de Correlación:\\033[0m\")\n",
    "correlation_matrix = data_filtrados.corr()\n",
    "sns.heatmap(correlation_matrix, annot=True, cmap='coolwarm')\n",
    "plt.show()\n",
    "\n",
    "# Calcular la matriz de correlación\n",
    "correlation_matrix = data_filtrados.corr()\n",
    "# Imprimir los valores de la matriz de correlación\n",
    "print(correlation_matrix)"
   ]
  },
  {
   "cell_type": "code",
   "execution_count": 57,
   "id": "6a5c3bf4-e7c5-418c-a7d3-439528b2e37b",
   "metadata": {},
   "outputs": [
    {
     "data": {
      "image/png": "[encoded data removed]",
      "text/plain": [
       "<Figure size 640x480 with 1 Axes>"
      ]
     },
     "metadata": {},
     "output_type": "display_data"
    }
   ],
   "source": [
    "from sklearn.metrics import RocCurveDisplay\n",
    "RocCurveDisplay.from_predictions(Y_test, Prediccion)\n",
    "plt.show()"
   ]
  },
  {
   "cell_type": "markdown",
   "id": "69d59403-9b40-4150-b938-ef9c1e1fbda5",
   "metadata": {},
   "source": [
    "### 8. Interpretar, analizar y documentar los resultados obtenidos"
   ]
  },
  {
   "cell_type": "markdown",
   "id": "80bb4678-a232-48b4-af17-d211e94282e6",
   "metadata": {},
   "source": [
    "Del desempeño del modelo se puede describir:\n",
    "\n",
    "- Precisión: La precisión mide la proporción de predicciones positivas verdaderas (TP) entre todas las predicciones positivas realizadas por el modelo (es decir, verdaderos positivos más falsos positivos, FP). Aquí la precisión para la clase \"Sobrevivió\" es 0,85, lo que significa que el 85% de los predichos como sobrevivientes por el modelo eran en realidad sobrevivientes del hundimiento del RMS Titanic.\n",
    "- Recall: Mide la proporción de predicciones positivas verdaderas entre todas las instancias positivas reales en el conjunto de datos. Aquí el Recall para la clase \"Sobrevivió\" es 0,53, lo que indica que el modelo es capaz de identificar correctamente más de la mitad de las instancias positivas reales. Sin embargo, también significa que el modelo no detecta el 47% restante, lo cual podría ser significativo dependiendo del contexto.\n",
    "- F1 Score: Es la media armónica de precisión y recuperación. Es particularmente útil en situaciones donde existe un desequilibrio entre las clases positivas y negativas. Una puntuación F1 de 0,66 como el generado en el modelo, sugiere que el modelo tiene un rendimiento razonablemente equilibrado entre precisión y recall para la clase \"Sobrevivió\". En este caso, el modelo no solo es capaz de identificar correctamente una cantidad considerable de verdaderos positivos, sino que también mantiene un nivel aceptable de precisión en sus predicciones positivas.\n",
    "- \n",
    "De la Matriz de Confusión podemos interpretar:\n",
    "\n",
    "- Verdaderos negativos (TN): El recuento de observaciones que un clasificador predijo correctamente como falsas es 98. Esto significa que el clasificador identificó correctamente 98 instancias que en realidad no pertenecían a la clase positiva.\n",
    "- Verdaderos positivos (TP): El recuento de observaciones que un clasificador predijo correctamente como verdaderas es 23. Esto indica que el clasificador identificó correctamente 23 instancias que realmente pertenecían a la clase positiva.\n",
    "- Falsos positivos (FP): El recuento de observaciones que un clasificador predijo incorrectamente como verdaderas es 4. Es decir, el clasificador etiquetó incorrectamente 4 instancias como positivas cuando en realidad eran negativas.\n",
    "- Falsos negativos (FN): El recuento de observaciones que un clasificador predijo incorrectamente como falsas es 20. Esto significa que el clasificador no identificó 20 instancias que realmente eran positivas.\n",
    "\n",
    "De la curva de precisión del modelo se puede interpretar:\n",
    "- El AUC (Área Bajo la Curva) de la curva de precisión-recall es 0,75, lo que indica que el modelo tiene un buen rendimiento en términos de identificar correctamente las instancias positivas y minimizar las falsas alarmas. Este valor refleja la capacidad del modelo para mantener un buen equilibrio entre precisión y recall en todos los umbrales de clasificación. Esto significa que el modelo es capaz de distinguir correctamente entre las clases positivas y negativas en el 75% de los casos.\n",
    "\n",
    "Correlaciones\n",
    "- Sexo y Supervivencia: La correlación alta entre \"Sexo\" y \"Sobrevivió\" sugiere que el género fue un factor importante en la probabilidad de supervivencia, equivalente a 0,52.\n",
    "- Clase y Supervivencia: La correlación negativa entre \"Clase P\" y \"Sobrevivió\" muestra que los pasajeros de clase alta tenían más probabilidades de sobrevivir, equivalente a -0,24.\n",
    "- Tarifa y Clase: La fuerte correlación negativa entre \"Tarifa\" y \"Clase P\" indica que las tarifas más altas estaban asociadas con clases más altas, equivalente a -0.67.\n",
    "- Tarifa y Supervivencia: La correlación positiva entre \"Tarifa\" y \"Sobrevivió\" sugiere que los pasajeros que pagaron tarifas más altas tenían mayores probabilidades de sobrevivir, probablemente debido a estar en clases más altas, equivalente a 0,27.\n",
    "- Familiares y Tarifa: La correlación entre \"SibSp\" y \"Tarifa\" sugiere que los pasajeros que viajaban con más familiares tendían a pagar tarifas más altas, equivalente a 0,34.\n",
    "\n",
    "Estas correlaciones ayudan a identificar los factores que influyeron en la supervivencia de los pasajeros del Titanic. Los datos sugieren que el género, la clase y la tarifa pagada fueron factores significativos. Las mujeres y los pasajeros de clases más altas (que pagaron tarifas más altas) tenían mayores probabilidades de sobrevivir. "
   ]
  }
 ],
 "metadata": {
  "kernelspec": {
   "display_name": "Python 3 (ipykernel)",
   "language": "python",
   "name": "python3"
  },
  "language_info": {
   "codemirror_mode": {
    "name": "ipython",
    "version": 3
   },
   "file_extension": ".py",
   "mimetype": "text/x-python",
   "name": "python",
   "nbconvert_exporter": "python",
   "pygments_lexer": "ipython3",
   "version": "3.11.7"
  }
 },
 "nbformat": 4,
 "nbformat_minor": 5
}
